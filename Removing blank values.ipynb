{
 "cells": [
  {
   "cell_type": "markdown",
   "id": "20397d44",
   "metadata": {},
   "source": [
    "Challenge: Transforming Hamlet into a Data Set\n",
    "Remove Blank Values\n",
    "Next, we want to eliminate elements that don't contain any words (and just have an ID as the first value). These typically represent blank lines between paragraphs or sections in the play. We also want to remove any blank values ('') within elements that don't contain any useful information for our analysis.\n",
    "\n",
    "Instructions\n",
    "\n",
    "Get Help\n",
    "Clean up the RDD and store the result as a new RDD hamlet_text_only."
   ]
  },
  {
   "cell_type": "code",
   "execution_count": null,
   "id": "4770cdde",
   "metadata": {},
   "outputs": [],
   "source": [
    "hamlet_with_ids.take(5)\n",
    "real_text = hamlet_with_ids.filter(lambda line: len(line) > 1)\n",
    "hamlet_text_only = real_text.map(lambda line: [l for l in line if l != ''])\n",
    "hamlet_text_only.take(10)"
   ]
  }
 ],
 "metadata": {
  "kernelspec": {
   "display_name": "Python 3 (ipykernel)",
   "language": "python",
   "name": "python3"
  },
  "language_info": {
   "codemirror_mode": {
    "name": "ipython",
    "version": 3
   },
   "file_extension": ".py",
   "mimetype": "text/x-python",
   "name": "python",
   "nbconvert_exporter": "python",
   "pygments_lexer": "ipython3",
   "version": "3.9.12"
  }
 },
 "nbformat": 4,
 "nbformat_minor": 5
}
