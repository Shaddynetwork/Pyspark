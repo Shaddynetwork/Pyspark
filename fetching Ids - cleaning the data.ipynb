{
 "cells": [
  {
   "cell_type": "markdown",
   "id": "15809485",
   "metadata": {},
   "source": [
    "Challenge: Transforming Hamlet into a Data Set\n",
    "Extract Line Numbers\n",
    "The first value in each element (or line from the play) is a line number that identifies the line of the play the text is from. It appears in the following format:\n",
    "\n",
    "'hamlet@0'\n",
    "'hamlet@8',\n",
    "'hamlet@9',\n",
    "...\n",
    "\n",
    "Copy\n",
    "We don't need the hamlet@ in these IDs for our data analysis. Let's extract just the integer part of the ID from each line, which is much more useful.\n",
    "\n",
    "Instructions\n",
    "\n",
    "Get Help\n",
    "Transform the RDD split_hamlet into a new RDD hamlet_with_ids that contains the clean version of the line ID for each element.\n",
    "\n",
    "For example, we want to transform hamlet@0 to 0, and leave the rest of the values in that element untouched.\n",
    "Recall that the map() function will run on each element in the RDD, where each element is a list that we can access using regular Python mechanics."
   ]
  },
  {
   "cell_type": "code",
   "execution_count": null,
   "id": "1037ec2b",
   "metadata": {},
   "outputs": [],
   "source": [
    "raw_hamlet = sc.textFile(\"hamlet.txt\")\n",
    "split_hamlet = raw_hamlet.map(lambda line: line.split('\\t'))\n",
    "split_hamlet.take(5)\n",
    "def format_id(x):\n",
    "    id = x[0].split('@')[1]\n",
    "    results = list()\n",
    "    results.append(id)\n",
    "    if len(x) > 1:\n",
    "        for y in x[1:]:\n",
    "            results.append(y)\n",
    "    return results\n",
    "\n",
    "hamlet_with_ids = split_hamlet.map(lambda line: format_id(line))\n",
    "hamlet_with_ids.take(10)"
   ]
  }
 ],
 "metadata": {
  "kernelspec": {
   "display_name": "Python 3 (ipykernel)",
   "language": "python",
   "name": "python3"
  },
  "language_info": {
   "codemirror_mode": {
    "name": "ipython",
    "version": 3
   },
   "file_extension": ".py",
   "mimetype": "text/x-python",
   "name": "python",
   "nbconvert_exporter": "python",
   "pygments_lexer": "ipython3",
   "version": "3.9.12"
  }
 },
 "nbformat": 4,
 "nbformat_minor": 5
}
